{
 "cells": [
  {
   "cell_type": "code",
   "execution_count": 36,
   "metadata": {},
   "outputs": [],
   "source": [
    "# Dependencies\n",
    "import pandas as pd\n",
    "import numpy as np\n",
    "import requests\n",
    "import json\n",
    "import csv\n",
    "\n",
    "# Get key\n",
    "from config import api_key\n"
   ]
  },
  {
   "cell_type": "code",
   "execution_count": 3,
   "metadata": {},
   "outputs": [],
   "source": []
  },
  {
   "cell_type": "code",
   "execution_count": 16,
   "metadata": {},
   "outputs": [],
   "source": [
    "# Searching for food groups\n"
   ]
  },
  {
   "cell_type": "code",
   "execution_count": 42,
   "metadata": {},
   "outputs": [],
   "source": [
    "\n",
    "# Set up Base URL\n",
    "url = \"https://api.nal.usda.gov/ndb/list\"\n",
    "\n",
    "# Set up parameters\n",
    "params = {\n",
    "    \"api_key\": api_key,\n",
    "    \"lt\":\"g\",\n",
    "    \"ds\":'Standard Reference'\n",
    "}\n",
    "\n",
    "response = requests.get(url, params).json()\n",
    "#print(json.dumps(response, indent=4))\n",
    "\n",
    "groups = []\n",
    "group_ids = []\n",
    "\n",
    "for g in response[\"list\"][\"item\"]:\n",
    "    groups.append(g[\"name\"])\n",
    "    group_ids.append(g[\"id\"])\n",
    "\n"
   ]
  },
  {
   "cell_type": "code",
   "execution_count": 35,
   "metadata": {},
   "outputs": [
    {
     "name": "stdout",
     "output_type": "stream",
     "text": [
      "['American Indian/Alaska Native Foods', 'Baby Foods', 'Baked Products', 'Beef Products', 'Beverages', 'Breakfast Cereals', 'Cereal Grains and Pasta', 'Dairy and Egg Products', 'Fast Foods', 'Fats and Oils', 'Finfish and Shellfish Products', 'Fruits and Fruit Juices', 'Lamb, Veal, and Game Products', 'Legumes and Legume Products', 'Meals, Entrees, and Side Dishes', 'Nut and Seed Products', 'Pork Products', 'Poultry Products', 'Restaurant Foods', 'Sausages and Luncheon Meats', 'Snacks', 'Soups, Sauces, and Gravies', 'Spices and Herbs', 'Sweets', 'Vegetables and Vegetable Products']\n"
     ]
    }
   ],
   "source": [
    "print(groups)"
   ]
  },
  {
   "cell_type": "code",
   "execution_count": 43,
   "metadata": {},
   "outputs": [],
   "source": [
    "groups_df = pd.DataFrame()\n",
    "groups_df['Group Name'] = groups\n",
    "groups_df['Group ID'] = group_ids"
   ]
  },
  {
   "cell_type": "code",
   "execution_count": 44,
   "metadata": {},
   "outputs": [],
   "source": [
    "groups_df.to_csv(\"USDAgroups.csv\", sep=',', index=False)"
   ]
  },
  {
   "cell_type": "code",
   "execution_count": 45,
   "metadata": {},
   "outputs": [
    {
     "data": {
      "text/html": [
       "<div>\n",
       "<style scoped>\n",
       "    .dataframe tbody tr th:only-of-type {\n",
       "        vertical-align: middle;\n",
       "    }\n",
       "\n",
       "    .dataframe tbody tr th {\n",
       "        vertical-align: top;\n",
       "    }\n",
       "\n",
       "    .dataframe thead th {\n",
       "        text-align: right;\n",
       "    }\n",
       "</style>\n",
       "<table border=\"1\" class=\"dataframe\">\n",
       "  <thead>\n",
       "    <tr style=\"text-align: right;\">\n",
       "      <th></th>\n",
       "      <th>Group Name</th>\n",
       "      <th>Group ID</th>\n",
       "    </tr>\n",
       "  </thead>\n",
       "  <tbody>\n",
       "    <tr>\n",
       "      <th>0</th>\n",
       "      <td>American Indian/Alaska Native Foods</td>\n",
       "      <td>3500</td>\n",
       "    </tr>\n",
       "    <tr>\n",
       "      <th>1</th>\n",
       "      <td>Baby Foods</td>\n",
       "      <td>0300</td>\n",
       "    </tr>\n",
       "    <tr>\n",
       "      <th>2</th>\n",
       "      <td>Baked Products</td>\n",
       "      <td>1800</td>\n",
       "    </tr>\n",
       "    <tr>\n",
       "      <th>3</th>\n",
       "      <td>Beef Products</td>\n",
       "      <td>1300</td>\n",
       "    </tr>\n",
       "    <tr>\n",
       "      <th>4</th>\n",
       "      <td>Beverages</td>\n",
       "      <td>1400</td>\n",
       "    </tr>\n",
       "    <tr>\n",
       "      <th>5</th>\n",
       "      <td>Breakfast Cereals</td>\n",
       "      <td>0800</td>\n",
       "    </tr>\n",
       "    <tr>\n",
       "      <th>6</th>\n",
       "      <td>Cereal Grains and Pasta</td>\n",
       "      <td>2000</td>\n",
       "    </tr>\n",
       "    <tr>\n",
       "      <th>7</th>\n",
       "      <td>Dairy and Egg Products</td>\n",
       "      <td>0100</td>\n",
       "    </tr>\n",
       "    <tr>\n",
       "      <th>8</th>\n",
       "      <td>Fast Foods</td>\n",
       "      <td>2100</td>\n",
       "    </tr>\n",
       "    <tr>\n",
       "      <th>9</th>\n",
       "      <td>Fats and Oils</td>\n",
       "      <td>0400</td>\n",
       "    </tr>\n",
       "    <tr>\n",
       "      <th>10</th>\n",
       "      <td>Finfish and Shellfish Products</td>\n",
       "      <td>1500</td>\n",
       "    </tr>\n",
       "    <tr>\n",
       "      <th>11</th>\n",
       "      <td>Fruits and Fruit Juices</td>\n",
       "      <td>0900</td>\n",
       "    </tr>\n",
       "    <tr>\n",
       "      <th>12</th>\n",
       "      <td>Lamb, Veal, and Game Products</td>\n",
       "      <td>1700</td>\n",
       "    </tr>\n",
       "    <tr>\n",
       "      <th>13</th>\n",
       "      <td>Legumes and Legume Products</td>\n",
       "      <td>1600</td>\n",
       "    </tr>\n",
       "    <tr>\n",
       "      <th>14</th>\n",
       "      <td>Meals, Entrees, and Side Dishes</td>\n",
       "      <td>2200</td>\n",
       "    </tr>\n",
       "    <tr>\n",
       "      <th>15</th>\n",
       "      <td>Nut and Seed Products</td>\n",
       "      <td>1200</td>\n",
       "    </tr>\n",
       "    <tr>\n",
       "      <th>16</th>\n",
       "      <td>Pork Products</td>\n",
       "      <td>1000</td>\n",
       "    </tr>\n",
       "    <tr>\n",
       "      <th>17</th>\n",
       "      <td>Poultry Products</td>\n",
       "      <td>0500</td>\n",
       "    </tr>\n",
       "    <tr>\n",
       "      <th>18</th>\n",
       "      <td>Restaurant Foods</td>\n",
       "      <td>3600</td>\n",
       "    </tr>\n",
       "    <tr>\n",
       "      <th>19</th>\n",
       "      <td>Sausages and Luncheon Meats</td>\n",
       "      <td>0700</td>\n",
       "    </tr>\n",
       "  </tbody>\n",
       "</table>\n",
       "</div>"
      ],
      "text/plain": [
       "                             Group Name Group ID\n",
       "0   American Indian/Alaska Native Foods     3500\n",
       "1                            Baby Foods     0300\n",
       "2                        Baked Products     1800\n",
       "3                         Beef Products     1300\n",
       "4                             Beverages     1400\n",
       "5                     Breakfast Cereals     0800\n",
       "6               Cereal Grains and Pasta     2000\n",
       "7                Dairy and Egg Products     0100\n",
       "8                            Fast Foods     2100\n",
       "9                         Fats and Oils     0400\n",
       "10       Finfish and Shellfish Products     1500\n",
       "11              Fruits and Fruit Juices     0900\n",
       "12        Lamb, Veal, and Game Products     1700\n",
       "13          Legumes and Legume Products     1600\n",
       "14      Meals, Entrees, and Side Dishes     2200\n",
       "15                Nut and Seed Products     1200\n",
       "16                        Pork Products     1000\n",
       "17                     Poultry Products     0500\n",
       "18                     Restaurant Foods     3600\n",
       "19          Sausages and Luncheon Meats     0700"
      ]
     },
     "execution_count": 45,
     "metadata": {},
     "output_type": "execute_result"
    }
   ],
   "source": [
    "groups_df.head(20)"
   ]
  },
  {
   "cell_type": "code",
   "execution_count": null,
   "metadata": {},
   "outputs": [],
   "source": []
  }
 ],
 "metadata": {
  "kernelspec": {
   "display_name": "Python 3",
   "language": "python",
   "name": "python3"
  },
  "language_info": {
   "codemirror_mode": {
    "name": "ipython",
    "version": 3
   },
   "file_extension": ".py",
   "mimetype": "text/x-python",
   "name": "python",
   "nbconvert_exporter": "python",
   "pygments_lexer": "ipython3",
   "version": "3.7.1"
  }
 },
 "nbformat": 4,
 "nbformat_minor": 2
}
