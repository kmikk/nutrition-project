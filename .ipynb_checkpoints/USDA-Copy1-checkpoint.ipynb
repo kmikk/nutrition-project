{
 "cells": [
  {
   "cell_type": "code",
   "execution_count": 31,
   "metadata": {},
   "outputs": [],
   "source": [
    "# Dependencies\n",
    "import pandas as pd\n",
    "import numpy as np\n",
    "import requests\n",
    "import json\n",
    "\n",
    "# Get key\n",
    "from config import api_key\n"
   ]
  },
  {
   "cell_type": "code",
   "execution_count": 32,
   "metadata": {},
   "outputs": [],
   "source": [
    "# # Import list of foods\n",
    "\n",
    "# food_file = \"resources/foods.csv\"\n",
    "\n",
    "# foods = pd.read_csv(food_file)\n",
    "\n",
    "# foods.head()"
   ]
  },
  {
   "cell_type": "code",
   "execution_count": 33,
   "metadata": {},
   "outputs": [],
   "source": [
    "# # Set up additional columns to hold information\n",
    "# foods['NDBno'] = \"\"\n",
    "# foods['Name'] = \"\"\n",
    "\n",
    "# foods.head()\n",
    "\n",
    "\n",
    "# Searching for food groups\n",
    "groups = pd.DataFrame()\n",
    "\n",
    "groups['Food Group'] = \"\"\n",
    "groups['Group ID'] = \"\"\n"
   ]
  },
  {
   "cell_type": "code",
   "execution_count": 34,
   "metadata": {},
   "outputs": [],
   "source": [
    "# Find the NBDno for each food\n",
    "\n",
    "# Set up parameters\n",
    "params = {\n",
    "    \"api_key\": api_key,\n",
    "    \"lt\":\"g\",\n",
    "    \"max\":50\n",
    "}\n",
    "\n",
    "\n",
    "\n",
    "#Loop through data\n",
    "for index, row in groups.iterrows():\n",
    "    \n",
    "    #Set up Base URL\n",
    "    base_url = \"https://api.nal.usda.gov/ndb/search\"\n",
    "    \n",
    "    response = requests.get(base_url, params).json()\n",
    "    \n",
    "    groups.loc[index, 'Food Group'] = response[\"item\"][\"name\"]\n",
    "    groups.loc[index, 'Group ID'] = response[\"item\"][\"id\"]\n",
    "    \n",
    "#     # Make request and print log\n",
    "#     print(f\"Retrieving results for: {row['food']}\")\n",
    "#     response = requests.get(base_url, params).json()\n",
    "    \n",
    "#     try:\n",
    "#         foods.loc[index, 'NDBno'] = response[0][\"item\"][\"nbdno\"]\n",
    "#         foods.loc[index, 'Name'] = response[0][\"item\"][\"name\"]\n",
    "        \n",
    "#     except (KeyError, IndexError):\n",
    "#         print(f\"{row['food']} not found, moving on\")"
   ]
  },
  {
   "cell_type": "code",
   "execution_count": 35,
   "metadata": {},
   "outputs": [
    {
     "data": {
      "text/html": [
       "<div>\n",
       "<style scoped>\n",
       "    .dataframe tbody tr th:only-of-type {\n",
       "        vertical-align: middle;\n",
       "    }\n",
       "\n",
       "    .dataframe tbody tr th {\n",
       "        vertical-align: top;\n",
       "    }\n",
       "\n",
       "    .dataframe thead th {\n",
       "        text-align: right;\n",
       "    }\n",
       "</style>\n",
       "<table border=\"1\" class=\"dataframe\">\n",
       "  <thead>\n",
       "    <tr style=\"text-align: right;\">\n",
       "      <th></th>\n",
       "      <th>Food Group</th>\n",
       "      <th>Group ID</th>\n",
       "    </tr>\n",
       "  </thead>\n",
       "  <tbody>\n",
       "  </tbody>\n",
       "</table>\n",
       "</div>"
      ],
      "text/plain": [
       "Empty DataFrame\n",
       "Columns: [Food Group, Group ID]\n",
       "Index: []"
      ]
     },
     "execution_count": 35,
     "metadata": {},
     "output_type": "execute_result"
    }
   ],
   "source": [
    "groups.head()\n"
   ]
  },
  {
   "cell_type": "code",
   "execution_count": null,
   "metadata": {},
   "outputs": [],
   "source": []
  }
 ],
 "metadata": {
  "kernelspec": {
   "display_name": "Python 3",
   "language": "python",
   "name": "python3"
  },
  "language_info": {
   "codemirror_mode": {
    "name": "ipython",
    "version": 3
   },
   "file_extension": ".py",
   "mimetype": "text/x-python",
   "name": "python",
   "nbconvert_exporter": "python",
   "pygments_lexer": "ipython3",
   "version": "3.7.1"
  }
 },
 "nbformat": 4,
 "nbformat_minor": 2
}
